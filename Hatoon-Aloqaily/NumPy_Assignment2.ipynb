{
  "cells": [
    {
      "cell_type": "markdown",
      "id": "5ffb93ae",
      "metadata": {
        "id": "5ffb93ae"
      },
      "source": [
        "# Q1: Import numpy library"
      ]
    },
    {
      "cell_type": "code",
      "execution_count": 1,
      "id": "936d4703",
      "metadata": {
        "id": "936d4703"
      },
      "outputs": [],
      "source": [
        "# write your code here ^_^\n",
        "import numpy as np"
      ]
    },
    {
      "cell_type": "markdown",
      "id": "b6991a89",
      "metadata": {
        "id": "b6991a89"
      },
      "source": [
        "# Q2: Generate a sequence of 15 floats using linspace() function"
      ]
    },
    {
      "cell_type": "code",
      "execution_count": 2,
      "id": "43bf04a5",
      "metadata": {
        "colab": {
          "base_uri": "https://localhost:8080/"
        },
        "id": "43bf04a5",
        "outputId": "358fe32a-1d0f-4dfa-e138-83b74ff2c4d3"
      },
      "outputs": [
        {
          "output_type": "execute_result",
          "data": {
            "text/plain": [
              "array([ 0.        ,  1.07142857,  2.14285714,  3.21428571,  4.28571429,\n",
              "        5.35714286,  6.42857143,  7.5       ,  8.57142857,  9.64285714,\n",
              "       10.71428571, 11.78571429, 12.85714286, 13.92857143, 15.        ])"
            ]
          },
          "metadata": {},
          "execution_count": 2
        }
      ],
      "source": [
        "# write your code here ^_^\n",
        "np.linspace(0, 15, 15) # 0 the start, 15 the stoping elements, 15 the sequence interval number"
      ]
    },
    {
      "cell_type": "markdown",
      "id": "7144bba8",
      "metadata": {
        "id": "7144bba8"
      },
      "source": [
        "# Q3: Create a 3-D array in shape (2, 2, 3) containing the four arrays given below\n",
        "Note : the array's name is up to you.\n",
        "\n",
        "|      |       |          |         |\n",
        "|------| ----- | -------- | ------- |\n",
        "|arr1 | 1.1    | 2.1       | 3.1        |\n",
        "|arr2 | 4.1    | 5.1       | 6.1        |\n",
        "|arr3 | 7.1    | 8.1       | 9.1        |\n",
        "|arr4 | 10.1   | 11.1      | 12.1       |"
      ]
    },
    {
      "cell_type": "code",
      "execution_count": 3,
      "id": "c1c3f9dc",
      "metadata": {
        "colab": {
          "base_uri": "https://localhost:8080/"
        },
        "id": "c1c3f9dc",
        "outputId": "e18d32e5-0366-42fe-9e84-8c4bb0a20555"
      },
      "outputs": [
        {
          "output_type": "stream",
          "name": "stdout",
          "text": [
            "[[[ 1.1  2.1  3.1]\n",
            "  [ 4.1  5.1  6.1]]\n",
            "\n",
            " [[ 7.1  8.1  9.1]\n",
            "  [10.1 11.1 12.1]]]\n",
            "(2, 2, 3)\n"
          ]
        }
      ],
      "source": [
        "# write your code here ^_^\n",
        "# creation\n",
        "arr = np.array([[[1.1, 2.1, 3.1], [4.1, 5.1, 6.1]], [[7.1, 8.1, 9.1], [10.1, 11.1, 12.1]]])\n",
        "print(arr)\n",
        "print(arr.shape) # 2 the outermost dimension [] brackets, 2 the 2D brackets, 3 is each of 3D which are the elements"
      ]
    },
    {
      "cell_type": "markdown",
      "id": "807acbf6",
      "metadata": {
        "id": "807acbf6"
      },
      "source": [
        "# Q4: Print the following:\n",
        "Note: use the same array from Q3.\n",
        "- Array's type.\n",
        "- Array's elements datatype.\n",
        "- Array's shape.\n",
        "- Array's size.\n",
        "- Array's dimention."
      ]
    },
    {
      "cell_type": "code",
      "execution_count": 10,
      "id": "6e90d6a0",
      "metadata": {
        "colab": {
          "base_uri": "https://localhost:8080/"
        },
        "id": "6e90d6a0",
        "outputId": "1118c3af-1e1f-4fc4-b2a3-b2e6c3a27988"
      },
      "outputs": [
        {
          "output_type": "stream",
          "name": "stdout",
          "text": [
            "<class 'numpy.ndarray'>\n",
            "float64\n",
            "(1, 4, 3)\n",
            "12\n",
            "3\n"
          ]
        }
      ],
      "source": [
        "# write your code here ^_^\n",
        "print(type(arr))\n",
        "print(arr.dtype)\n",
        "print(arr.shape)\n",
        "print(arr.size)\n",
        "print(arr.ndim)"
      ]
    },
    {
      "cell_type": "markdown",
      "id": "db4958b5",
      "metadata": {
        "id": "db4958b5"
      },
      "source": [
        "# Q5:  Change the array dimention from 3-D to 4-D\n",
        "Note: use the same array from Q3.\n",
        "- Create a new array to hold the changes.\n",
        "- Print the new array's dimention and shape."
      ]
    },
    {
      "cell_type": "code",
      "execution_count": 7,
      "id": "e9f5c88c",
      "metadata": {
        "colab": {
          "base_uri": "https://localhost:8080/"
        },
        "id": "e9f5c88c",
        "outputId": "6091d005-a224-404d-8a79-eb938c3d2c19"
      },
      "outputs": [
        {
          "output_type": "stream",
          "name": "stdout",
          "text": [
            "[[[[ 1.1]\n",
            "   [ 2.1]\n",
            "   [ 3.1]]\n",
            "\n",
            "  [[ 4.1]\n",
            "   [ 5.1]\n",
            "   [ 6.1]]]\n",
            "\n",
            "\n",
            " [[[ 7.1]\n",
            "   [ 8.1]\n",
            "   [ 9.1]]\n",
            "\n",
            "  [[10.1]\n",
            "   [11.1]\n",
            "   [12.1]]]]\n",
            "4\n",
            "(2, 2, 3, 1)\n"
          ]
        }
      ],
      "source": [
        "# write your code here ^_^\n",
        "arr2 = arr.reshape(2, 2, 3, 1)\n",
        "print(arr2)\n",
        "print(arr2.ndim)\n",
        "print(arr2.shape)\n"
      ]
    },
    {
      "cell_type": "markdown",
      "id": "454f2504",
      "metadata": {
        "id": "454f2504"
      },
      "source": [
        "# Q6: Change the array's elements datatype to integer  \n",
        "Note: use the same array from Q5.\n",
        "\n",
        "- Create a new array to hold the changes.\n",
        "- Print the new array."
      ]
    },
    {
      "cell_type": "code",
      "execution_count": 8,
      "id": "8135b045",
      "metadata": {
        "colab": {
          "base_uri": "https://localhost:8080/"
        },
        "id": "8135b045",
        "outputId": "913b0210-114b-4d6f-ad87-234303b3eed2"
      },
      "outputs": [
        {
          "output_type": "execute_result",
          "data": {
            "text/plain": [
              "array([[[[ 1],\n",
              "         [ 2],\n",
              "         [ 3]],\n",
              "\n",
              "        [[ 4],\n",
              "         [ 5],\n",
              "         [ 6]]],\n",
              "\n",
              "\n",
              "       [[[ 7],\n",
              "         [ 8],\n",
              "         [ 9]],\n",
              "\n",
              "        [[10],\n",
              "         [11],\n",
              "         [12]]]])"
            ]
          },
          "metadata": {},
          "execution_count": 8
        }
      ],
      "source": [
        "# write your code here ^_^\n",
        "arr3 = arr2.astype(int)\n",
        "arr3"
      ]
    },
    {
      "cell_type": "markdown",
      "id": "ab90badc",
      "metadata": {
        "id": "ab90badc"
      },
      "source": [
        "# Q7: Print all array's elements using for loop\n",
        "Note: use the same array from Q6.\n",
        "\n",
        "Hint: use nditer()"
      ]
    },
    {
      "cell_type": "code",
      "execution_count": 9,
      "id": "a0d58d15",
      "metadata": {
        "colab": {
          "base_uri": "https://localhost:8080/"
        },
        "id": "a0d58d15",
        "outputId": "81758adc-c438-4660-e6e2-fde4ca796949"
      },
      "outputs": [
        {
          "output_type": "stream",
          "name": "stdout",
          "text": [
            "1\n",
            "2\n",
            "3\n",
            "4\n",
            "5\n",
            "6\n",
            "7\n",
            "8\n",
            "9\n",
            "10\n",
            "11\n",
            "12\n"
          ]
        }
      ],
      "source": [
        "# write your code here ^_^\n",
        "# nditer iterates over elements in the array\n",
        "for i in np.nditer(arr3):\n",
        "  print(i)"
      ]
    },
    {
      "cell_type": "markdown",
      "id": "afa8b5f3",
      "metadata": {
        "id": "afa8b5f3"
      },
      "source": [
        "# Q8:  Print number 8 using array slicing\n",
        "Note: use the same array from Q6."
      ]
    },
    {
      "cell_type": "code",
      "execution_count": 54,
      "id": "6e12e2d7",
      "metadata": {
        "colab": {
          "base_uri": "https://localhost:8080/"
        },
        "id": "6e12e2d7",
        "outputId": "30164221-7bb9-4275-9f77-f7e71e5298e9"
      },
      "outputs": [
        {
          "output_type": "stream",
          "name": "stdout",
          "text": [
            "[[[[8]]]]\n"
          ]
        }
      ],
      "source": [
        "# write your code here ^_^\n",
        "print(arr3[1:,0:1,1:2])"
      ]
    },
    {
      "cell_type": "markdown",
      "id": "e2e71895",
      "metadata": {
        "id": "e2e71895"
      },
      "source": [
        "# Q9: Print number 5 and number 6 using array slicing\n",
        "Note: use the same array from Q6."
      ]
    },
    {
      "cell_type": "code",
      "execution_count": 10,
      "id": "c3218bcb",
      "metadata": {
        "colab": {
          "base_uri": "https://localhost:8080/"
        },
        "id": "c3218bcb",
        "outputId": "e5a341d9-2325-4d95-b87c-cc707b49cdc4"
      },
      "outputs": [
        {
          "output_type": "stream",
          "name": "stdout",
          "text": [
            "[[[[5]]]]\n",
            "[[[[6]]]]\n"
          ]
        }
      ],
      "source": [
        "# write your code here ^_^\n",
        "print(arr3[0:1, 1:, 1:2])\n",
        "print(arr3[0:1, 1:, 2:3])\n"
      ]
    },
    {
      "cell_type": "markdown",
      "id": "e5d63cd3",
      "metadata": {
        "id": "e5d63cd3"
      },
      "source": [
        "# Q10: Search for number 8 using where()\n",
        "Note: use the same array from Q6.\n",
        "\n",
        "Note: where() is only used with small data.\n",
        "\n",
        "*the output represents the path of the index that leads to number 8*"
      ]
    },
    {
      "cell_type": "code",
      "execution_count": 11,
      "id": "ddaf0146",
      "metadata": {
        "colab": {
          "base_uri": "https://localhost:8080/"
        },
        "id": "ddaf0146",
        "outputId": "1e3d7da0-6f7e-4043-a758-7ba1b44e87a4"
      },
      "outputs": [
        {
          "output_type": "execute_result",
          "data": {
            "text/plain": [
              "(array([1]), array([0]), array([1]), array([0]))"
            ]
          },
          "metadata": {},
          "execution_count": 11
        }
      ],
      "source": [
        "# write your code here ^_^\n",
        "np.where(arr3==8)"
      ]
    },
    {
      "cell_type": "markdown",
      "id": "c89f41ad",
      "metadata": {
        "id": "c89f41ad"
      },
      "source": [
        "# Q11: Reshape the array as the following\n",
        "\n",
        "    array([[[ 1, 2],\n",
        "            [ 3,  4],\n",
        "            [ 5,  6]],\n",
        "\n",
        "           [[ 7,  8],\n",
        "            [ 9, 10],\n",
        "            [11, 12]]])\n",
        "            \n",
        " Note: use the same array from Q6."
      ]
    },
    {
      "cell_type": "code",
      "execution_count": 12,
      "id": "d9b632bd",
      "metadata": {
        "colab": {
          "base_uri": "https://localhost:8080/"
        },
        "id": "d9b632bd",
        "outputId": "fbd991e2-3d01-4bb7-e17a-ef13f1423c47"
      },
      "outputs": [
        {
          "output_type": "execute_result",
          "data": {
            "text/plain": [
              "array([[[ 1,  2],\n",
              "        [ 3,  4],\n",
              "        [ 5,  6]],\n",
              "\n",
              "       [[ 7,  8],\n",
              "        [ 9, 10],\n",
              "        [11, 12]]])"
            ]
          },
          "metadata": {},
          "execution_count": 12
        }
      ],
      "source": [
        "# write your code here ^_^\n",
        "arr3.reshape(2, 3, 2)"
      ]
    },
    {
      "cell_type": "markdown",
      "id": "539c16b1",
      "metadata": {
        "id": "539c16b1"
      },
      "source": [
        "# Q12: Join the given arrays below\n",
        "    arr1 = np.array([['A', 'B'], ['E', 'F']])\n",
        "    arr2 = np.array([['C', 'D'], ['G', 'H']])\n",
        "## Q12.1: Join the arrays without specifying the axis"
      ]
    },
    {
      "cell_type": "code",
      "execution_count": 13,
      "id": "d6acdeaf",
      "metadata": {
        "colab": {
          "base_uri": "https://localhost:8080/"
        },
        "id": "d6acdeaf",
        "outputId": "05548d3a-b6b9-4329-e54f-8f6ce99e451d"
      },
      "outputs": [
        {
          "output_type": "execute_result",
          "data": {
            "text/plain": [
              "array([['A', 'B'],\n",
              "       ['E', 'F'],\n",
              "       ['C', 'D'],\n",
              "       ['G', 'H']], dtype='<U1')"
            ]
          },
          "metadata": {},
          "execution_count": 13
        }
      ],
      "source": [
        "# write your code here ^_^\n",
        "arr1 = np.array([['A', 'B'], ['E', 'F']])\n",
        "arr2 = np.array([['C', 'D'], ['G', 'H']])\n",
        "\n",
        "join_arrays = np.concatenate((arr1, arr2))\n",
        "join_arrays"
      ]
    },
    {
      "cell_type": "markdown",
      "id": "1a37dd47",
      "metadata": {
        "id": "1a37dd47"
      },
      "source": [
        "# Q12.2: Join the arrays along rows with axis = 1"
      ]
    },
    {
      "cell_type": "code",
      "execution_count": 14,
      "id": "b849658c",
      "metadata": {
        "colab": {
          "base_uri": "https://localhost:8080/"
        },
        "id": "b849658c",
        "outputId": "f8a94c56-ee8a-49be-9da6-1def453d8cd3"
      },
      "outputs": [
        {
          "output_type": "execute_result",
          "data": {
            "text/plain": [
              "array([['A', 'B', 'C', 'D'],\n",
              "       ['E', 'F', 'G', 'H']], dtype='<U1')"
            ]
          },
          "metadata": {},
          "execution_count": 14
        }
      ],
      "source": [
        "# write your code here ^_^\n",
        "join_arrays = np.concatenate((arr1, arr2), axis=1)\n",
        "join_arrays"
      ]
    },
    {
      "cell_type": "markdown",
      "id": "7296eecf",
      "metadata": {
        "id": "7296eecf"
      },
      "source": [
        "# Q13: Split the array into two arrays with axis = 1, each array should contain four arrays.\n",
        "Note: use the same array from Q12.1"
      ]
    },
    {
      "cell_type": "code",
      "execution_count": 15,
      "id": "7f7f5e49",
      "metadata": {
        "colab": {
          "base_uri": "https://localhost:8080/"
        },
        "id": "7f7f5e49",
        "outputId": "1d41720b-aacf-4b06-c082-488f597998b4"
      },
      "outputs": [
        {
          "output_type": "execute_result",
          "data": {
            "text/plain": [
              "[array([['A', 'B'],\n",
              "        ['E', 'F']], dtype='<U1'),\n",
              " array([['C', 'D'],\n",
              "        ['G', 'H']], dtype='<U1')]"
            ]
          },
          "metadata": {},
          "execution_count": 15
        }
      ],
      "source": [
        "# write your code here ^_^\n",
        "sp = np.array_split(join_arrays, 2, axis=1)\n",
        "sp"
      ]
    }
  ],
  "metadata": {
    "kernelspec": {
      "display_name": "Python 3 (ipykernel)",
      "language": "python",
      "name": "python3"
    },
    "language_info": {
      "codemirror_mode": {
        "name": "ipython",
        "version": 3
      },
      "file_extension": ".py",
      "mimetype": "text/x-python",
      "name": "python",
      "nbconvert_exporter": "python",
      "pygments_lexer": "ipython3",
      "version": "3.9.12"
    },
    "colab": {
      "provenance": []
    }
  },
  "nbformat": 4,
  "nbformat_minor": 5
}