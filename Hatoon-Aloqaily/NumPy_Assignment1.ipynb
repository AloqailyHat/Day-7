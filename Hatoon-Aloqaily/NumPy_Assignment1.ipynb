{
  "cells": [
    {
      "cell_type": "code",
      "execution_count": 2,
      "id": "212fd1ba",
      "metadata": {
        "id": "212fd1ba"
      },
      "outputs": [],
      "source": [
        "import numpy as np"
      ]
    },
    {
      "cell_type": "markdown",
      "id": "10803eb0",
      "metadata": {
        "id": "10803eb0"
      },
      "source": [
        "## Q#1: Create x array with elements equal to 1."
      ]
    },
    {
      "cell_type": "code",
      "execution_count": 3,
      "id": "3307454f",
      "metadata": {
        "colab": {
          "base_uri": "https://localhost:8080/"
        },
        "id": "3307454f",
        "outputId": "8a66bc33-fe61-43a8-9023-3a32132cd1b7"
      },
      "outputs": [
        {
          "output_type": "execute_result",
          "data": {
            "text/plain": [
              "array([1., 1., 1., 1., 1., 1.])"
            ]
          },
          "metadata": {},
          "execution_count": 3
        }
      ],
      "source": [
        "# write your code here ^_^\n",
        "x = np.ones(6)\n",
        "x"
      ]
    },
    {
      "cell_type": "markdown",
      "id": "7795306d",
      "metadata": {
        "id": "7795306d"
      },
      "source": [
        "## Q#2: Create y array with elements equal to 0."
      ]
    },
    {
      "cell_type": "code",
      "execution_count": 4,
      "id": "9550b063",
      "metadata": {
        "colab": {
          "base_uri": "https://localhost:8080/"
        },
        "id": "9550b063",
        "outputId": "931c1d37-785d-4270-981c-295b4b197521"
      },
      "outputs": [
        {
          "output_type": "execute_result",
          "data": {
            "text/plain": [
              "array([0., 0., 0., 0., 0., 0.])"
            ]
          },
          "metadata": {},
          "execution_count": 4
        }
      ],
      "source": [
        "# write your code here ^_^\n",
        "y = np.zeros(6)\n",
        "y"
      ]
    },
    {
      "cell_type": "markdown",
      "id": "cde6a939",
      "metadata": {
        "id": "cde6a939"
      },
      "source": [
        "## Q#3: Add x and y arrays."
      ]
    },
    {
      "cell_type": "code",
      "execution_count": 5,
      "id": "71070d1d",
      "metadata": {
        "colab": {
          "base_uri": "https://localhost:8080/"
        },
        "id": "71070d1d",
        "outputId": "31a1c282-eeea-42c0-c70b-07c24bdd522c"
      },
      "outputs": [
        {
          "output_type": "execute_result",
          "data": {
            "text/plain": [
              "array([1., 1., 1., 1., 1., 1.])"
            ]
          },
          "metadata": {},
          "execution_count": 5
        }
      ],
      "source": [
        "# write your code here ^_^\n",
        "add_arr = x + y\n",
        "add_arr"
      ]
    },
    {
      "cell_type": "markdown",
      "id": "ed854f4c",
      "metadata": {
        "id": "ed854f4c"
      },
      "source": [
        "## Q#4: Print x array characteristics (e.g: dimension, shape, size, type)."
      ]
    },
    {
      "cell_type": "code",
      "execution_count": 6,
      "id": "32627c83",
      "metadata": {
        "colab": {
          "base_uri": "https://localhost:8080/"
        },
        "id": "32627c83",
        "outputId": "a2fbfbd2-e215-4f50-ecb1-587a625a36e9"
      },
      "outputs": [
        {
          "output_type": "stream",
          "name": "stdout",
          "text": [
            "1\n",
            "(6,)\n",
            "6\n",
            "<class 'numpy.ndarray'>\n"
          ]
        }
      ],
      "source": [
        "# write your code here ^_^\n",
        "print(x.ndim)  # dimension of an array\n",
        "print(x.shape)  # shape of an array , 5 rows and one column, the dimension n x m\n",
        "print(x.size)  # total number of elements in the array\n",
        "print(type(x))\n"
      ]
    },
    {
      "cell_type": "markdown",
      "id": "dbd46a73",
      "metadata": {
        "id": "dbd46a73"
      },
      "source": [
        "## Q#5: Create a 2D array \"called w\" as the following:\n",
        "\n",
        "|       |          |\n",
        "| ----- | -------- |\n",
        "| 11    | 12       |\n",
        "| 13    | 14       |\n",
        "| 15    | 16       |\n"
      ]
    },
    {
      "cell_type": "code",
      "execution_count": 7,
      "id": "b9c7bbb0",
      "metadata": {
        "colab": {
          "base_uri": "https://localhost:8080/"
        },
        "id": "b9c7bbb0",
        "outputId": "325895a7-efcb-468a-eea5-37fe23bbbdde"
      },
      "outputs": [
        {
          "output_type": "execute_result",
          "data": {
            "text/plain": [
              "array([[11, 12],\n",
              "       [13, 14],\n",
              "       [15, 16]])"
            ]
          },
          "metadata": {},
          "execution_count": 7
        }
      ],
      "source": [
        "# write your code here ^_^\n",
        "w = np.array([[11, 12], [13, 14], [15, 16]])\n",
        "w"
      ]
    },
    {
      "cell_type": "markdown",
      "id": "0e62bd09",
      "metadata": {
        "id": "0e62bd09"
      },
      "source": [
        "## Q#6: Create z array contains the numbers from 1 to 3."
      ]
    },
    {
      "cell_type": "code",
      "execution_count": 8,
      "id": "cee8aba0",
      "metadata": {
        "colab": {
          "base_uri": "https://localhost:8080/"
        },
        "id": "cee8aba0",
        "outputId": "b00109a4-4195-4c82-f21d-bdc8d2f08707"
      },
      "outputs": [
        {
          "output_type": "execute_result",
          "data": {
            "text/plain": [
              "array([[1, 2, 3],\n",
              "       [1, 2, 3],\n",
              "       [1, 2, 3]])"
            ]
          },
          "metadata": {},
          "execution_count": 8
        }
      ],
      "source": [
        "# write your code here ^_^\n",
        "z = np.array([[1, 2, 3], [1, 2, 3], [1, 2, 3]]) # added because when combining we must have same dimension of rows\n",
        "z"
      ]
    },
    {
      "cell_type": "markdown",
      "id": "32b00711",
      "metadata": {
        "id": "32b00711"
      },
      "source": [
        "## Q#7: Combine the arrays z and w in horizontal way then save it in a new variable \"newArray\"."
      ]
    },
    {
      "cell_type": "code",
      "execution_count": 10,
      "id": "d218f892",
      "metadata": {
        "colab": {
          "base_uri": "https://localhost:8080/"
        },
        "id": "d218f892",
        "outputId": "5e15db58-7493-414c-f095-81ed7875c316"
      },
      "outputs": [
        {
          "output_type": "execute_result",
          "data": {
            "text/plain": [
              "array([[ 1,  2,  3, 11, 12],\n",
              "       [ 1,  2,  3, 13, 14],\n",
              "       [ 1,  2,  3, 15, 16]])"
            ]
          },
          "metadata": {},
          "execution_count": 10
        }
      ],
      "source": [
        "# write your code here ^_^\n",
        "newArray = np.hstack((z, w))\n",
        "newArray"
      ]
    },
    {
      "cell_type": "markdown",
      "id": "7e009910",
      "metadata": {
        "id": "7e009910"
      },
      "source": [
        "## Q#8: Print all elements of \"newArray\" using the loop."
      ]
    },
    {
      "cell_type": "code",
      "execution_count": 11,
      "id": "abbed923",
      "metadata": {
        "colab": {
          "base_uri": "https://localhost:8080/"
        },
        "id": "abbed923",
        "outputId": "48cc8b67-4d8d-43a8-c19c-9869fbffa07e"
      },
      "outputs": [
        {
          "output_type": "stream",
          "name": "stdout",
          "text": [
            "[ 1  2  3 11 12]\n",
            "[ 1  2  3 13 14]\n",
            "[ 1  2  3 15 16]\n"
          ]
        }
      ],
      "source": [
        "# write your code here ^_^\n",
        "for i in newArray:\n",
        "  print(i)"
      ]
    },
    {
      "cell_type": "markdown",
      "id": "011c6d2d",
      "metadata": {
        "id": "011c6d2d"
      },
      "source": [
        "## Q#9: Reverse the columns and rows of \"newArray\"."
      ]
    },
    {
      "cell_type": "code",
      "execution_count": 23,
      "id": "12e3f0db",
      "metadata": {
        "colab": {
          "base_uri": "https://localhost:8080/"
        },
        "id": "12e3f0db",
        "outputId": "a17b8673-6c0a-4102-d0bf-e0376eaad660"
      },
      "outputs": [
        {
          "output_type": "stream",
          "name": "stdout",
          "text": [
            "[[ 0  0  0]\n",
            " [ 1  1  1]\n",
            " [ 2  2  2]\n",
            " [10 12 14]\n",
            " [11 13 15]]\n"
          ]
        }
      ],
      "source": [
        "# write your code here ^_^\n",
        "newArray = np.transpose(newArray)\n",
        "print(newArray)"
      ]
    },
    {
      "cell_type": "markdown",
      "id": "f40b57c3",
      "metadata": {
        "id": "f40b57c3"
      },
      "source": [
        "## Q#10: Decrement all elements of \"newArray\" with 1."
      ]
    },
    {
      "cell_type": "code",
      "execution_count": 24,
      "id": "aea004df",
      "metadata": {
        "colab": {
          "base_uri": "https://localhost:8080/"
        },
        "id": "aea004df",
        "outputId": "63e76eb0-e73c-43f5-8fb3-93b2c4c9e991"
      },
      "outputs": [
        {
          "output_type": "execute_result",
          "data": {
            "text/plain": [
              "array([[-1, -1, -1],\n",
              "       [ 0,  0,  0],\n",
              "       [ 1,  1,  1],\n",
              "       [ 9, 11, 13],\n",
              "       [10, 12, 14]])"
            ]
          },
          "metadata": {},
          "execution_count": 24
        }
      ],
      "source": [
        "# write your code here ^_^\n",
        "newArray = newArray - 1\n",
        "newArray"
      ]
    },
    {
      "cell_type": "markdown",
      "id": "8901e8be",
      "metadata": {
        "id": "8901e8be"
      },
      "source": [
        "## Q#11: Find smallest and biggest values in \"newArray\"."
      ]
    },
    {
      "cell_type": "code",
      "execution_count": 25,
      "id": "4ea08613",
      "metadata": {
        "colab": {
          "base_uri": "https://localhost:8080/"
        },
        "id": "4ea08613",
        "outputId": "a201c353-07e0-444d-cfac-f0579a20b8fb"
      },
      "outputs": [
        {
          "output_type": "execute_result",
          "data": {
            "text/plain": [
              "-1"
            ]
          },
          "metadata": {},
          "execution_count": 25
        }
      ],
      "source": [
        "# write your code here ^_^\n",
        "small = np.min(newArray)\n",
        "small"
      ]
    },
    {
      "cell_type": "code",
      "source": [
        "big = np.max(newArray)\n",
        "big"
      ],
      "metadata": {
        "colab": {
          "base_uri": "https://localhost:8080/"
        },
        "id": "bpnG0bV0g8iP",
        "outputId": "3337448d-4c3c-40f5-d3b2-95154a2f2448"
      },
      "id": "bpnG0bV0g8iP",
      "execution_count": 26,
      "outputs": [
        {
          "output_type": "execute_result",
          "data": {
            "text/plain": [
              "14"
            ]
          },
          "metadata": {},
          "execution_count": 26
        }
      ]
    },
    {
      "cell_type": "markdown",
      "id": "c5d5d4ca",
      "metadata": {
        "id": "c5d5d4ca"
      },
      "source": [
        "## Q#12: Print the first row of \"newArray\" using indexing."
      ]
    },
    {
      "cell_type": "code",
      "execution_count": 27,
      "id": "73e3b5a5",
      "metadata": {
        "colab": {
          "base_uri": "https://localhost:8080/"
        },
        "id": "73e3b5a5",
        "outputId": "460d5d7a-80e3-431b-adf1-d31748365fb4"
      },
      "outputs": [
        {
          "output_type": "stream",
          "name": "stdout",
          "text": [
            "[-1 -1 -1]\n"
          ]
        }
      ],
      "source": [
        "# write your code here ^_^\n",
        "print(newArray[0])"
      ]
    },
    {
      "cell_type": "markdown",
      "id": "78f4d6c1",
      "metadata": {
        "id": "78f4d6c1"
      },
      "source": [
        "## Q#13: Print the number equals 12 of \"newArray\" using indexing."
      ]
    },
    {
      "cell_type": "code",
      "execution_count": 29,
      "id": "7ad660b7",
      "metadata": {
        "colab": {
          "base_uri": "https://localhost:8080/"
        },
        "id": "7ad660b7",
        "outputId": "2da96f3a-68cd-4b8d-a9a5-102f357ac64c"
      },
      "outputs": [
        {
          "output_type": "stream",
          "name": "stdout",
          "text": [
            "12\n"
          ]
        }
      ],
      "source": [
        "# write your code here ^_^\n",
        "print(newArray[4][1])"
      ]
    },
    {
      "cell_type": "markdown",
      "id": "932b5c3d",
      "metadata": {
        "id": "932b5c3d"
      },
      "source": [
        "## Q#14: Print the numbers equal 0 and 13 of \"newArray\" using indexing."
      ]
    },
    {
      "cell_type": "code",
      "execution_count": 33,
      "id": "31fb5fd0",
      "metadata": {
        "colab": {
          "base_uri": "https://localhost:8080/"
        },
        "id": "31fb5fd0",
        "outputId": "917ec849-8a14-482f-830a-dc2bf91c8d4d"
      },
      "outputs": [
        {
          "output_type": "stream",
          "name": "stdout",
          "text": [
            "0 0 0\n",
            "13\n"
          ]
        }
      ],
      "source": [
        "# write your code here ^_^\n",
        "print(newArray[1][0] , newArray[1][1], newArray[1][2])\n",
        "print(newArray[3][2])"
      ]
    },
    {
      "cell_type": "markdown",
      "id": "27e0f68e",
      "metadata": {
        "id": "27e0f68e"
      },
      "source": [
        "\n",
        "\n",
        "\n",
        "## Q#15: Change the shape of \"newArray\" to (9,1)."
      ]
    },
    {
      "cell_type": "code",
      "execution_count": 35,
      "id": "35f224ad",
      "metadata": {
        "colab": {
          "base_uri": "https://localhost:8080/",
          "height": 182
        },
        "id": "35f224ad",
        "outputId": "aa9da249-6a78-442b-d180-6acda7114b36"
      },
      "outputs": [
        {
          "output_type": "error",
          "ename": "ValueError",
          "evalue": "cannot reshape array of size 15 into shape (9,1)",
          "traceback": [
            "\u001b[0;31m---------------------------------------------------------------------------\u001b[0m",
            "\u001b[0;31mValueError\u001b[0m                                Traceback (most recent call last)",
            "\u001b[0;32m<ipython-input-35-cc9a65630634>\u001b[0m in \u001b[0;36m<cell line: 4>\u001b[0;34m()\u001b[0m\n\u001b[1;32m      2\u001b[0m \u001b[0;31m# 9 number of rows, and 1 number of columns\u001b[0m\u001b[0;34m\u001b[0m\u001b[0;34m\u001b[0m\u001b[0m\n\u001b[1;32m      3\u001b[0m \u001b[0;31m# Explanation: here we cannot reshape the array because the size is not compatible to be adjusted to (9,1)\u001b[0m\u001b[0;34m\u001b[0m\u001b[0;34m\u001b[0m\u001b[0m\n\u001b[0;32m----> 4\u001b[0;31m \u001b[0mnewArray\u001b[0m\u001b[0;34m.\u001b[0m\u001b[0mreshape\u001b[0m\u001b[0;34m(\u001b[0m\u001b[0;36m9\u001b[0m\u001b[0;34m,\u001b[0m\u001b[0;36m1\u001b[0m\u001b[0;34m)\u001b[0m\u001b[0;34m\u001b[0m\u001b[0;34m\u001b[0m\u001b[0m\n\u001b[0m",
            "\u001b[0;31mValueError\u001b[0m: cannot reshape array of size 15 into shape (9,1)"
          ]
        }
      ],
      "source": [
        "# write your code here ^_^\n",
        "# 9 number of rows, and 1 number of columns\n",
        "# Explanation: here we cannot reshape the array because the size is not compatible to be adjusted to (9,1)\n",
        "newArray.reshape(9,1)"
      ]
    },
    {
      "cell_type": "markdown",
      "id": "e6d104c5",
      "metadata": {
        "id": "e6d104c5"
      },
      "source": [
        "## Q#16: Change the shape of \"newArray\" to (3,2)."
      ]
    },
    {
      "cell_type": "code",
      "execution_count": null,
      "id": "724d51d5",
      "metadata": {
        "colab": {
          "base_uri": "https://localhost:8080/",
          "height": 164
        },
        "id": "724d51d5",
        "outputId": "726add47-3dd9-479a-cad4-2092939527ad"
      },
      "outputs": [
        {
          "output_type": "error",
          "ename": "ValueError",
          "evalue": "cannot reshape array of size 2 into shape (3,2)",
          "traceback": [
            "\u001b[0;31m---------------------------------------------------------------------------\u001b[0m",
            "\u001b[0;31mValueError\u001b[0m                                Traceback (most recent call last)",
            "\u001b[0;32m<ipython-input-77-ea75a2ba4605>\u001b[0m in \u001b[0;36m<cell line: 2>\u001b[0;34m()\u001b[0m\n\u001b[1;32m      1\u001b[0m \u001b[0;31m# write your code here ^_^\u001b[0m\u001b[0;34m\u001b[0m\u001b[0;34m\u001b[0m\u001b[0m\n\u001b[0;32m----> 2\u001b[0;31m \u001b[0mnewArray\u001b[0m\u001b[0;34m.\u001b[0m\u001b[0mreshape\u001b[0m\u001b[0;34m(\u001b[0m\u001b[0;36m3\u001b[0m\u001b[0;34m,\u001b[0m\u001b[0;36m2\u001b[0m\u001b[0;34m)\u001b[0m\u001b[0;34m\u001b[0m\u001b[0;34m\u001b[0m\u001b[0m\n\u001b[0m",
            "\u001b[0;31mValueError\u001b[0m: cannot reshape array of size 2 into shape (3,2)"
          ]
        }
      ],
      "source": [
        "# write your code here ^_^\n",
        "newArray.reshape(3,2) # i think the reason is that we cannot reshape the dimensions same as the Q 15"
      ]
    },
    {
      "cell_type": "markdown",
      "id": "09567fdc",
      "metadata": {
        "id": "09567fdc"
      },
      "source": [
        "# Well Done 🎉"
      ]
    }
  ],
  "metadata": {
    "kernelspec": {
      "display_name": "Python 3 (ipykernel)",
      "language": "python",
      "name": "python3"
    },
    "language_info": {
      "codemirror_mode": {
        "name": "ipython",
        "version": 3
      },
      "file_extension": ".py",
      "mimetype": "text/x-python",
      "name": "python",
      "nbconvert_exporter": "python",
      "pygments_lexer": "ipython3",
      "version": "3.9.12"
    },
    "colab": {
      "provenance": []
    }
  },
  "nbformat": 4,
  "nbformat_minor": 5
}